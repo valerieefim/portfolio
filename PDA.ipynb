{
  "cells": [
    {
      "cell_type": "markdown",
      "metadata": {
        "id": "view-in-github",
        "colab_type": "text"
      },
      "source": [
        "<a href=\"https://colab.research.google.com/github/valerieefim/portfolio/blob/PDA_with_ML/PDA.ipynb\" target=\"_parent\"><img src=\"https://colab.research.google.com/assets/colab-badge.svg\" alt=\"Open In Colab\"/></a>"
      ]
    },
    {
      "cell_type": "markdown",
      "metadata": {
        "id": "AiMdKYTtuIoJ"
      },
      "source": [
        "# Задание на лабораторную работу"
      ]
    },
    {
      "cell_type": "markdown",
      "metadata": {
        "id": "1gbswCIauLSE"
      },
      "source": [
        "Представим задачу предсказания оценки как задачу регрессии, где целевой переменной будет признак Book-Rating. Тогда план анализа данных будет следующим:\n",
        "1. Предобработать данные: преобразовать все категориальные данные в числовые (для преобразования названий книжек в вектор попробуйте не менее 3 подходов из перечисленных: bag-of-words, tf-idf), обработать пустые ячейки и неточности в столбцах.\n",
        "2. Сделать нормировку данных.\n",
        "3. Обучить и протестировать не менее трех моделей регрессии. Например, линейную регрессию, случайный лес и xgboost. Можно также попробовать применить нейронную сеть.\n",
        "4. Оценить результаты.\n"
      ]
    },
    {
      "cell_type": "markdown",
      "metadata": {
        "id": "y7sd-f4YvwNA"
      },
      "source": [
        "# Загрузка данных и их подготовка"
      ]
    },
    {
      "cell_type": "code",
      "execution_count": 1,
      "metadata": {
        "id": "cRZUBYsPVTev"
      },
      "outputs": [],
      "source": [
        "import warnings\n",
        "\n",
        "warnings.filterwarnings(\"ignore\")"
      ]
    },
    {
      "cell_type": "code",
      "execution_count": 2,
      "metadata": {
        "id": "zJaT3INuvyWd"
      },
      "outputs": [],
      "source": [
        "!mkdir /root/.kaggle\n",
        "!touch /root/.kaggle/kaggle.json\n",
        "!echo '{\"username\":\"daniilpiatygo\",\"key\":\"6a5c15c37176a5dd0af08791f3882e69\"}' > /root/.kaggle/kaggle.json\n",
        "!chmod 600 ~/.kaggle/kaggle.json"
      ]
    },
    {
      "cell_type": "code",
      "execution_count": 3,
      "metadata": {
        "colab": {
          "base_uri": "https://localhost:8080/"
        },
        "id": "jzCThyBPv-8C",
        "outputId": "42093da5-0230-43f6-c635-047df77c23f0"
      },
      "outputs": [
        {
          "output_type": "stream",
          "name": "stdout",
          "text": [
            "Dataset URL: https://www.kaggle.com/datasets/arashnic/book-recommendation-dataset\n",
            "License(s): CC0-1.0\n",
            "Downloading book-recommendation-dataset.zip to /content\n",
            "  0% 0.00/24.3M [00:00<?, ?B/s]\n",
            "100% 24.3M/24.3M [00:00<00:00, 509MB/s]\n"
          ]
        }
      ],
      "source": [
        "!kaggle datasets download -d arashnic/book-recommendation-dataset\n",
        "!unzip -q book-recommendation-dataset.zip"
      ]
    },
    {
      "cell_type": "code",
      "execution_count": 4,
      "metadata": {
        "id": "hoYIEppNwn4c"
      },
      "outputs": [],
      "source": [
        "import numpy as np\n",
        "import pandas as pd\n",
        "import gc"
      ]
    },
    {
      "cell_type": "code",
      "execution_count": 5,
      "metadata": {
        "id": "T-ckOP1cwl68"
      },
      "outputs": [],
      "source": [
        "books = pd.read_csv(\"Books.csv\")\n",
        "ratings = pd.read_csv(\"Ratings.csv\")\n",
        "users = pd.read_csv(\"Users.csv\")\n",
        "\n",
        "books = books.merge(ratings, on=\"ISBN\").merge(users, on=\"User-ID\")"
      ]
    },
    {
      "cell_type": "code",
      "execution_count": 6,
      "metadata": {
        "colab": {
          "base_uri": "https://localhost:8080/",
          "height": 411
        },
        "id": "QJw75Pcnwy4u",
        "outputId": "9280ed26-7bea-4e26-8fb7-287b7bc44baf"
      },
      "outputs": [
        {
          "output_type": "execute_result",
          "data": {
            "text/plain": [
              "         ISBN           Book-Title           Book-Author Year-Of-Publication  \\\n",
              "0  0195153448  Classical Mythology    Mark P. O. Morford                2002   \n",
              "1  0002005018         Clara Callan  Richard Bruce Wright                2001   \n",
              "2  0002005018         Clara Callan  Richard Bruce Wright                2001   \n",
              "3  0002005018         Clara Callan  Richard Bruce Wright                2001   \n",
              "4  0002005018         Clara Callan  Richard Bruce Wright                2001   \n",
              "\n",
              "                 Publisher                                        Image-URL-S  \\\n",
              "0  Oxford University Press  http://images.amazon.com/images/P/0195153448.0...   \n",
              "1    HarperFlamingo Canada  http://images.amazon.com/images/P/0002005018.0...   \n",
              "2    HarperFlamingo Canada  http://images.amazon.com/images/P/0002005018.0...   \n",
              "3    HarperFlamingo Canada  http://images.amazon.com/images/P/0002005018.0...   \n",
              "4    HarperFlamingo Canada  http://images.amazon.com/images/P/0002005018.0...   \n",
              "\n",
              "                                         Image-URL-M  \\\n",
              "0  http://images.amazon.com/images/P/0195153448.0...   \n",
              "1  http://images.amazon.com/images/P/0002005018.0...   \n",
              "2  http://images.amazon.com/images/P/0002005018.0...   \n",
              "3  http://images.amazon.com/images/P/0002005018.0...   \n",
              "4  http://images.amazon.com/images/P/0002005018.0...   \n",
              "\n",
              "                                         Image-URL-L  User-ID  Book-Rating  \\\n",
              "0  http://images.amazon.com/images/P/0195153448.0...        2            0   \n",
              "1  http://images.amazon.com/images/P/0002005018.0...        8            5   \n",
              "2  http://images.amazon.com/images/P/0002005018.0...    11400            0   \n",
              "3  http://images.amazon.com/images/P/0002005018.0...    11676            8   \n",
              "4  http://images.amazon.com/images/P/0002005018.0...    41385            0   \n",
              "\n",
              "                    Location   Age  \n",
              "0  stockton, california, usa  18.0  \n",
              "1   timmins, ontario, canada   NaN  \n",
              "2    ottawa, ontario, canada  49.0  \n",
              "3              n/a, n/a, n/a   NaN  \n",
              "4   sudbury, ontario, canada   NaN  "
            ],
            "text/html": [
              "\n",
              "  <div id=\"df-793eb2dc-c1ab-43a0-b03a-c823293c5926\" class=\"colab-df-container\">\n",
              "    <div>\n",
              "<style scoped>\n",
              "    .dataframe tbody tr th:only-of-type {\n",
              "        vertical-align: middle;\n",
              "    }\n",
              "\n",
              "    .dataframe tbody tr th {\n",
              "        vertical-align: top;\n",
              "    }\n",
              "\n",
              "    .dataframe thead th {\n",
              "        text-align: right;\n",
              "    }\n",
              "</style>\n",
              "<table border=\"1\" class=\"dataframe\">\n",
              "  <thead>\n",
              "    <tr style=\"text-align: right;\">\n",
              "      <th></th>\n",
              "      <th>ISBN</th>\n",
              "      <th>Book-Title</th>\n",
              "      <th>Book-Author</th>\n",
              "      <th>Year-Of-Publication</th>\n",
              "      <th>Publisher</th>\n",
              "      <th>Image-URL-S</th>\n",
              "      <th>Image-URL-M</th>\n",
              "      <th>Image-URL-L</th>\n",
              "      <th>User-ID</th>\n",
              "      <th>Book-Rating</th>\n",
              "      <th>Location</th>\n",
              "      <th>Age</th>\n",
              "    </tr>\n",
              "  </thead>\n",
              "  <tbody>\n",
              "    <tr>\n",
              "      <th>0</th>\n",
              "      <td>0195153448</td>\n",
              "      <td>Classical Mythology</td>\n",
              "      <td>Mark P. O. Morford</td>\n",
              "      <td>2002</td>\n",
              "      <td>Oxford University Press</td>\n",
              "      <td>http://images.amazon.com/images/P/0195153448.0...</td>\n",
              "      <td>http://images.amazon.com/images/P/0195153448.0...</td>\n",
              "      <td>http://images.amazon.com/images/P/0195153448.0...</td>\n",
              "      <td>2</td>\n",
              "      <td>0</td>\n",
              "      <td>stockton, california, usa</td>\n",
              "      <td>18.0</td>\n",
              "    </tr>\n",
              "    <tr>\n",
              "      <th>1</th>\n",
              "      <td>0002005018</td>\n",
              "      <td>Clara Callan</td>\n",
              "      <td>Richard Bruce Wright</td>\n",
              "      <td>2001</td>\n",
              "      <td>HarperFlamingo Canada</td>\n",
              "      <td>http://images.amazon.com/images/P/0002005018.0...</td>\n",
              "      <td>http://images.amazon.com/images/P/0002005018.0...</td>\n",
              "      <td>http://images.amazon.com/images/P/0002005018.0...</td>\n",
              "      <td>8</td>\n",
              "      <td>5</td>\n",
              "      <td>timmins, ontario, canada</td>\n",
              "      <td>NaN</td>\n",
              "    </tr>\n",
              "    <tr>\n",
              "      <th>2</th>\n",
              "      <td>0002005018</td>\n",
              "      <td>Clara Callan</td>\n",
              "      <td>Richard Bruce Wright</td>\n",
              "      <td>2001</td>\n",
              "      <td>HarperFlamingo Canada</td>\n",
              "      <td>http://images.amazon.com/images/P/0002005018.0...</td>\n",
              "      <td>http://images.amazon.com/images/P/0002005018.0...</td>\n",
              "      <td>http://images.amazon.com/images/P/0002005018.0...</td>\n",
              "      <td>11400</td>\n",
              "      <td>0</td>\n",
              "      <td>ottawa, ontario, canada</td>\n",
              "      <td>49.0</td>\n",
              "    </tr>\n",
              "    <tr>\n",
              "      <th>3</th>\n",
              "      <td>0002005018</td>\n",
              "      <td>Clara Callan</td>\n",
              "      <td>Richard Bruce Wright</td>\n",
              "      <td>2001</td>\n",
              "      <td>HarperFlamingo Canada</td>\n",
              "      <td>http://images.amazon.com/images/P/0002005018.0...</td>\n",
              "      <td>http://images.amazon.com/images/P/0002005018.0...</td>\n",
              "      <td>http://images.amazon.com/images/P/0002005018.0...</td>\n",
              "      <td>11676</td>\n",
              "      <td>8</td>\n",
              "      <td>n/a, n/a, n/a</td>\n",
              "      <td>NaN</td>\n",
              "    </tr>\n",
              "    <tr>\n",
              "      <th>4</th>\n",
              "      <td>0002005018</td>\n",
              "      <td>Clara Callan</td>\n",
              "      <td>Richard Bruce Wright</td>\n",
              "      <td>2001</td>\n",
              "      <td>HarperFlamingo Canada</td>\n",
              "      <td>http://images.amazon.com/images/P/0002005018.0...</td>\n",
              "      <td>http://images.amazon.com/images/P/0002005018.0...</td>\n",
              "      <td>http://images.amazon.com/images/P/0002005018.0...</td>\n",
              "      <td>41385</td>\n",
              "      <td>0</td>\n",
              "      <td>sudbury, ontario, canada</td>\n",
              "      <td>NaN</td>\n",
              "    </tr>\n",
              "  </tbody>\n",
              "</table>\n",
              "</div>\n",
              "    <div class=\"colab-df-buttons\">\n",
              "\n",
              "  <div class=\"colab-df-container\">\n",
              "    <button class=\"colab-df-convert\" onclick=\"convertToInteractive('df-793eb2dc-c1ab-43a0-b03a-c823293c5926')\"\n",
              "            title=\"Convert this dataframe to an interactive table.\"\n",
              "            style=\"display:none;\">\n",
              "\n",
              "  <svg xmlns=\"http://www.w3.org/2000/svg\" height=\"24px\" viewBox=\"0 -960 960 960\">\n",
              "    <path d=\"M120-120v-720h720v720H120Zm60-500h600v-160H180v160Zm220 220h160v-160H400v160Zm0 220h160v-160H400v160ZM180-400h160v-160H180v160Zm440 0h160v-160H620v160ZM180-180h160v-160H180v160Zm440 0h160v-160H620v160Z\"/>\n",
              "  </svg>\n",
              "    </button>\n",
              "\n",
              "  <style>\n",
              "    .colab-df-container {\n",
              "      display:flex;\n",
              "      gap: 12px;\n",
              "    }\n",
              "\n",
              "    .colab-df-convert {\n",
              "      background-color: #E8F0FE;\n",
              "      border: none;\n",
              "      border-radius: 50%;\n",
              "      cursor: pointer;\n",
              "      display: none;\n",
              "      fill: #1967D2;\n",
              "      height: 32px;\n",
              "      padding: 0 0 0 0;\n",
              "      width: 32px;\n",
              "    }\n",
              "\n",
              "    .colab-df-convert:hover {\n",
              "      background-color: #E2EBFA;\n",
              "      box-shadow: 0px 1px 2px rgba(60, 64, 67, 0.3), 0px 1px 3px 1px rgba(60, 64, 67, 0.15);\n",
              "      fill: #174EA6;\n",
              "    }\n",
              "\n",
              "    .colab-df-buttons div {\n",
              "      margin-bottom: 4px;\n",
              "    }\n",
              "\n",
              "    [theme=dark] .colab-df-convert {\n",
              "      background-color: #3B4455;\n",
              "      fill: #D2E3FC;\n",
              "    }\n",
              "\n",
              "    [theme=dark] .colab-df-convert:hover {\n",
              "      background-color: #434B5C;\n",
              "      box-shadow: 0px 1px 3px 1px rgba(0, 0, 0, 0.15);\n",
              "      filter: drop-shadow(0px 1px 2px rgba(0, 0, 0, 0.3));\n",
              "      fill: #FFFFFF;\n",
              "    }\n",
              "  </style>\n",
              "\n",
              "    <script>\n",
              "      const buttonEl =\n",
              "        document.querySelector('#df-793eb2dc-c1ab-43a0-b03a-c823293c5926 button.colab-df-convert');\n",
              "      buttonEl.style.display =\n",
              "        google.colab.kernel.accessAllowed ? 'block' : 'none';\n",
              "\n",
              "      async function convertToInteractive(key) {\n",
              "        const element = document.querySelector('#df-793eb2dc-c1ab-43a0-b03a-c823293c5926');\n",
              "        const dataTable =\n",
              "          await google.colab.kernel.invokeFunction('convertToInteractive',\n",
              "                                                    [key], {});\n",
              "        if (!dataTable) return;\n",
              "\n",
              "        const docLinkHtml = 'Like what you see? Visit the ' +\n",
              "          '<a target=\"_blank\" href=https://colab.research.google.com/notebooks/data_table.ipynb>data table notebook</a>'\n",
              "          + ' to learn more about interactive tables.';\n",
              "        element.innerHTML = '';\n",
              "        dataTable['output_type'] = 'display_data';\n",
              "        await google.colab.output.renderOutput(dataTable, element);\n",
              "        const docLink = document.createElement('div');\n",
              "        docLink.innerHTML = docLinkHtml;\n",
              "        element.appendChild(docLink);\n",
              "      }\n",
              "    </script>\n",
              "  </div>\n",
              "\n",
              "\n",
              "    <div id=\"df-a1b0bfdf-cca4-4b13-bc75-312ac6927b61\">\n",
              "      <button class=\"colab-df-quickchart\" onclick=\"quickchart('df-a1b0bfdf-cca4-4b13-bc75-312ac6927b61')\"\n",
              "                title=\"Suggest charts\"\n",
              "                style=\"display:none;\">\n",
              "\n",
              "<svg xmlns=\"http://www.w3.org/2000/svg\" height=\"24px\"viewBox=\"0 0 24 24\"\n",
              "     width=\"24px\">\n",
              "    <g>\n",
              "        <path d=\"M19 3H5c-1.1 0-2 .9-2 2v14c0 1.1.9 2 2 2h14c1.1 0 2-.9 2-2V5c0-1.1-.9-2-2-2zM9 17H7v-7h2v7zm4 0h-2V7h2v10zm4 0h-2v-4h2v4z\"/>\n",
              "    </g>\n",
              "</svg>\n",
              "      </button>\n",
              "\n",
              "<style>\n",
              "  .colab-df-quickchart {\n",
              "      --bg-color: #E8F0FE;\n",
              "      --fill-color: #1967D2;\n",
              "      --hover-bg-color: #E2EBFA;\n",
              "      --hover-fill-color: #174EA6;\n",
              "      --disabled-fill-color: #AAA;\n",
              "      --disabled-bg-color: #DDD;\n",
              "  }\n",
              "\n",
              "  [theme=dark] .colab-df-quickchart {\n",
              "      --bg-color: #3B4455;\n",
              "      --fill-color: #D2E3FC;\n",
              "      --hover-bg-color: #434B5C;\n",
              "      --hover-fill-color: #FFFFFF;\n",
              "      --disabled-bg-color: #3B4455;\n",
              "      --disabled-fill-color: #666;\n",
              "  }\n",
              "\n",
              "  .colab-df-quickchart {\n",
              "    background-color: var(--bg-color);\n",
              "    border: none;\n",
              "    border-radius: 50%;\n",
              "    cursor: pointer;\n",
              "    display: none;\n",
              "    fill: var(--fill-color);\n",
              "    height: 32px;\n",
              "    padding: 0;\n",
              "    width: 32px;\n",
              "  }\n",
              "\n",
              "  .colab-df-quickchart:hover {\n",
              "    background-color: var(--hover-bg-color);\n",
              "    box-shadow: 0 1px 2px rgba(60, 64, 67, 0.3), 0 1px 3px 1px rgba(60, 64, 67, 0.15);\n",
              "    fill: var(--button-hover-fill-color);\n",
              "  }\n",
              "\n",
              "  .colab-df-quickchart-complete:disabled,\n",
              "  .colab-df-quickchart-complete:disabled:hover {\n",
              "    background-color: var(--disabled-bg-color);\n",
              "    fill: var(--disabled-fill-color);\n",
              "    box-shadow: none;\n",
              "  }\n",
              "\n",
              "  .colab-df-spinner {\n",
              "    border: 2px solid var(--fill-color);\n",
              "    border-color: transparent;\n",
              "    border-bottom-color: var(--fill-color);\n",
              "    animation:\n",
              "      spin 1s steps(1) infinite;\n",
              "  }\n",
              "\n",
              "  @keyframes spin {\n",
              "    0% {\n",
              "      border-color: transparent;\n",
              "      border-bottom-color: var(--fill-color);\n",
              "      border-left-color: var(--fill-color);\n",
              "    }\n",
              "    20% {\n",
              "      border-color: transparent;\n",
              "      border-left-color: var(--fill-color);\n",
              "      border-top-color: var(--fill-color);\n",
              "    }\n",
              "    30% {\n",
              "      border-color: transparent;\n",
              "      border-left-color: var(--fill-color);\n",
              "      border-top-color: var(--fill-color);\n",
              "      border-right-color: var(--fill-color);\n",
              "    }\n",
              "    40% {\n",
              "      border-color: transparent;\n",
              "      border-right-color: var(--fill-color);\n",
              "      border-top-color: var(--fill-color);\n",
              "    }\n",
              "    60% {\n",
              "      border-color: transparent;\n",
              "      border-right-color: var(--fill-color);\n",
              "    }\n",
              "    80% {\n",
              "      border-color: transparent;\n",
              "      border-right-color: var(--fill-color);\n",
              "      border-bottom-color: var(--fill-color);\n",
              "    }\n",
              "    90% {\n",
              "      border-color: transparent;\n",
              "      border-bottom-color: var(--fill-color);\n",
              "    }\n",
              "  }\n",
              "</style>\n",
              "\n",
              "      <script>\n",
              "        async function quickchart(key) {\n",
              "          const quickchartButtonEl =\n",
              "            document.querySelector('#' + key + ' button');\n",
              "          quickchartButtonEl.disabled = true;  // To prevent multiple clicks.\n",
              "          quickchartButtonEl.classList.add('colab-df-spinner');\n",
              "          try {\n",
              "            const charts = await google.colab.kernel.invokeFunction(\n",
              "                'suggestCharts', [key], {});\n",
              "          } catch (error) {\n",
              "            console.error('Error during call to suggestCharts:', error);\n",
              "          }\n",
              "          quickchartButtonEl.classList.remove('colab-df-spinner');\n",
              "          quickchartButtonEl.classList.add('colab-df-quickchart-complete');\n",
              "        }\n",
              "        (() => {\n",
              "          let quickchartButtonEl =\n",
              "            document.querySelector('#df-a1b0bfdf-cca4-4b13-bc75-312ac6927b61 button');\n",
              "          quickchartButtonEl.style.display =\n",
              "            google.colab.kernel.accessAllowed ? 'block' : 'none';\n",
              "        })();\n",
              "      </script>\n",
              "    </div>\n",
              "\n",
              "    </div>\n",
              "  </div>\n"
            ],
            "application/vnd.google.colaboratory.intrinsic+json": {
              "type": "dataframe",
              "variable_name": "books"
            }
          },
          "metadata": {},
          "execution_count": 6
        }
      ],
      "source": [
        "books.head()"
      ]
    },
    {
      "cell_type": "markdown",
      "source": [
        "Удалим неиспользуемые переменные"
      ],
      "metadata": {
        "id": "Yqso2ZkX8R64"
      }
    },
    {
      "cell_type": "code",
      "source": [
        "del ratings, users\n",
        "gc.collect()"
      ],
      "metadata": {
        "colab": {
          "base_uri": "https://localhost:8080/"
        },
        "id": "MRBLn9wE8PpR",
        "outputId": "3d4fe9e9-48c2-4738-974c-f4d5fdd4b80b"
      },
      "execution_count": 7,
      "outputs": [
        {
          "output_type": "execute_result",
          "data": {
            "text/plain": [
              "0"
            ]
          },
          "metadata": {},
          "execution_count": 7
        }
      ]
    },
    {
      "cell_type": "markdown",
      "metadata": {
        "id": "azlP8pRcxsJv"
      },
      "source": [
        "Преодобработку возьмём из [второй практики](https://github.com/DannyTheFlower/PDA_Course/blob/main/practices/practice_2/PDA_P2.ipynb)."
      ]
    },
    {
      "cell_type": "code",
      "execution_count": 8,
      "metadata": {
        "id": "UR2BF25zx-nD"
      },
      "outputs": [],
      "source": [
        "locations = books[\"Location\"].str.split(\", \", expand=True)\n",
        "locations.drop(range(3, 7), axis=1, inplace=True)\n",
        "locations.columns = [\"city\", \"region\", \"country\"]\n",
        "books = pd.concat([books, locations], axis=1)\n",
        "\n",
        "books[\"Age\"] = books[\"Age\"].apply(lambda x: x if 0 <= x <= 100 else np.nan)\n",
        "\n",
        "condition = (books[\"Year-Of-Publication\"] == \"Gallimard\") | (books[\"Year-Of-Publication\"] == \"DK Publishing Inc\")\n",
        "books.loc[condition, [\"Book-Author\", \"Year-Of-Publication\"]] = books.loc[condition, [\"Year-Of-Publication\", \"Book-Author\"]].values"
      ]
    },
    {
      "cell_type": "code",
      "execution_count": 9,
      "metadata": {
        "colab": {
          "base_uri": "https://localhost:8080/",
          "height": 411
        },
        "id": "5bpECktpz1oF",
        "outputId": "a6d9fe85-a5ce-4f72-c1c6-050e16b81d1f"
      },
      "outputs": [
        {
          "output_type": "execute_result",
          "data": {
            "text/plain": [
              "         ISBN           Book-Title           Book-Author Year-Of-Publication  \\\n",
              "0  0195153448  Classical Mythology    Mark P. O. Morford                2002   \n",
              "1  0002005018         Clara Callan  Richard Bruce Wright                2001   \n",
              "2  0002005018         Clara Callan  Richard Bruce Wright                2001   \n",
              "3  0002005018         Clara Callan  Richard Bruce Wright                2001   \n",
              "4  0002005018         Clara Callan  Richard Bruce Wright                2001   \n",
              "\n",
              "                 Publisher                                        Image-URL-S  \\\n",
              "0  Oxford University Press  http://images.amazon.com/images/P/0195153448.0...   \n",
              "1    HarperFlamingo Canada  http://images.amazon.com/images/P/0002005018.0...   \n",
              "2    HarperFlamingo Canada  http://images.amazon.com/images/P/0002005018.0...   \n",
              "3    HarperFlamingo Canada  http://images.amazon.com/images/P/0002005018.0...   \n",
              "4    HarperFlamingo Canada  http://images.amazon.com/images/P/0002005018.0...   \n",
              "\n",
              "                                         Image-URL-M  \\\n",
              "0  http://images.amazon.com/images/P/0195153448.0...   \n",
              "1  http://images.amazon.com/images/P/0002005018.0...   \n",
              "2  http://images.amazon.com/images/P/0002005018.0...   \n",
              "3  http://images.amazon.com/images/P/0002005018.0...   \n",
              "4  http://images.amazon.com/images/P/0002005018.0...   \n",
              "\n",
              "                                         Image-URL-L  User-ID  Book-Rating  \\\n",
              "0  http://images.amazon.com/images/P/0195153448.0...        2            0   \n",
              "1  http://images.amazon.com/images/P/0002005018.0...        8            5   \n",
              "2  http://images.amazon.com/images/P/0002005018.0...    11400            0   \n",
              "3  http://images.amazon.com/images/P/0002005018.0...    11676            8   \n",
              "4  http://images.amazon.com/images/P/0002005018.0...    41385            0   \n",
              "\n",
              "                    Location   Age      city      region country  \n",
              "0  stockton, california, usa  18.0  stockton  california     usa  \n",
              "1   timmins, ontario, canada   NaN   timmins     ontario  canada  \n",
              "2    ottawa, ontario, canada  49.0    ottawa     ontario  canada  \n",
              "3              n/a, n/a, n/a   NaN       n/a         n/a     n/a  \n",
              "4   sudbury, ontario, canada   NaN   sudbury     ontario  canada  "
            ],
            "text/html": [
              "\n",
              "  <div id=\"df-b3550031-57a0-4b2b-ae60-6bfb84507f5a\" class=\"colab-df-container\">\n",
              "    <div>\n",
              "<style scoped>\n",
              "    .dataframe tbody tr th:only-of-type {\n",
              "        vertical-align: middle;\n",
              "    }\n",
              "\n",
              "    .dataframe tbody tr th {\n",
              "        vertical-align: top;\n",
              "    }\n",
              "\n",
              "    .dataframe thead th {\n",
              "        text-align: right;\n",
              "    }\n",
              "</style>\n",
              "<table border=\"1\" class=\"dataframe\">\n",
              "  <thead>\n",
              "    <tr style=\"text-align: right;\">\n",
              "      <th></th>\n",
              "      <th>ISBN</th>\n",
              "      <th>Book-Title</th>\n",
              "      <th>Book-Author</th>\n",
              "      <th>Year-Of-Publication</th>\n",
              "      <th>Publisher</th>\n",
              "      <th>Image-URL-S</th>\n",
              "      <th>Image-URL-M</th>\n",
              "      <th>Image-URL-L</th>\n",
              "      <th>User-ID</th>\n",
              "      <th>Book-Rating</th>\n",
              "      <th>Location</th>\n",
              "      <th>Age</th>\n",
              "      <th>city</th>\n",
              "      <th>region</th>\n",
              "      <th>country</th>\n",
              "    </tr>\n",
              "  </thead>\n",
              "  <tbody>\n",
              "    <tr>\n",
              "      <th>0</th>\n",
              "      <td>0195153448</td>\n",
              "      <td>Classical Mythology</td>\n",
              "      <td>Mark P. O. Morford</td>\n",
              "      <td>2002</td>\n",
              "      <td>Oxford University Press</td>\n",
              "      <td>http://images.amazon.com/images/P/0195153448.0...</td>\n",
              "      <td>http://images.amazon.com/images/P/0195153448.0...</td>\n",
              "      <td>http://images.amazon.com/images/P/0195153448.0...</td>\n",
              "      <td>2</td>\n",
              "      <td>0</td>\n",
              "      <td>stockton, california, usa</td>\n",
              "      <td>18.0</td>\n",
              "      <td>stockton</td>\n",
              "      <td>california</td>\n",
              "      <td>usa</td>\n",
              "    </tr>\n",
              "    <tr>\n",
              "      <th>1</th>\n",
              "      <td>0002005018</td>\n",
              "      <td>Clara Callan</td>\n",
              "      <td>Richard Bruce Wright</td>\n",
              "      <td>2001</td>\n",
              "      <td>HarperFlamingo Canada</td>\n",
              "      <td>http://images.amazon.com/images/P/0002005018.0...</td>\n",
              "      <td>http://images.amazon.com/images/P/0002005018.0...</td>\n",
              "      <td>http://images.amazon.com/images/P/0002005018.0...</td>\n",
              "      <td>8</td>\n",
              "      <td>5</td>\n",
              "      <td>timmins, ontario, canada</td>\n",
              "      <td>NaN</td>\n",
              "      <td>timmins</td>\n",
              "      <td>ontario</td>\n",
              "      <td>canada</td>\n",
              "    </tr>\n",
              "    <tr>\n",
              "      <th>2</th>\n",
              "      <td>0002005018</td>\n",
              "      <td>Clara Callan</td>\n",
              "      <td>Richard Bruce Wright</td>\n",
              "      <td>2001</td>\n",
              "      <td>HarperFlamingo Canada</td>\n",
              "      <td>http://images.amazon.com/images/P/0002005018.0...</td>\n",
              "      <td>http://images.amazon.com/images/P/0002005018.0...</td>\n",
              "      <td>http://images.amazon.com/images/P/0002005018.0...</td>\n",
              "      <td>11400</td>\n",
              "      <td>0</td>\n",
              "      <td>ottawa, ontario, canada</td>\n",
              "      <td>49.0</td>\n",
              "      <td>ottawa</td>\n",
              "      <td>ontario</td>\n",
              "      <td>canada</td>\n",
              "    </tr>\n",
              "    <tr>\n",
              "      <th>3</th>\n",
              "      <td>0002005018</td>\n",
              "      <td>Clara Callan</td>\n",
              "      <td>Richard Bruce Wright</td>\n",
              "      <td>2001</td>\n",
              "      <td>HarperFlamingo Canada</td>\n",
              "      <td>http://images.amazon.com/images/P/0002005018.0...</td>\n",
              "      <td>http://images.amazon.com/images/P/0002005018.0...</td>\n",
              "      <td>http://images.amazon.com/images/P/0002005018.0...</td>\n",
              "      <td>11676</td>\n",
              "      <td>8</td>\n",
              "      <td>n/a, n/a, n/a</td>\n",
              "      <td>NaN</td>\n",
              "      <td>n/a</td>\n",
              "      <td>n/a</td>\n",
              "      <td>n/a</td>\n",
              "    </tr>\n",
              "    <tr>\n",
              "      <th>4</th>\n",
              "      <td>0002005018</td>\n",
              "      <td>Clara Callan</td>\n",
              "      <td>Richard Bruce Wright</td>\n",
              "      <td>2001</td>\n",
              "      <td>HarperFlamingo Canada</td>\n",
              "      <td>http://images.amazon.com/images/P/0002005018.0...</td>\n",
              "      <td>http://images.amazon.com/images/P/0002005018.0...</td>\n",
              "      <td>http://images.amazon.com/images/P/0002005018.0...</td>\n",
              "      <td>41385</td>\n",
              "      <td>0</td>\n",
              "      <td>sudbury, ontario, canada</td>\n",
              "      <td>NaN</td>\n",
              "      <td>sudbury</td>\n",
              "      <td>ontario</td>\n",
              "      <td>canada</td>\n",
              "    </tr>\n",
              "  </tbody>\n",
              "</table>\n",
              "</div>\n",
              "    <div class=\"colab-df-buttons\">\n",
              "\n",
              "  <div class=\"colab-df-container\">\n",
              "    <button class=\"colab-df-convert\" onclick=\"convertToInteractive('df-b3550031-57a0-4b2b-ae60-6bfb84507f5a')\"\n",
              "            title=\"Convert this dataframe to an interactive table.\"\n",
              "            style=\"display:none;\">\n",
              "\n",
              "  <svg xmlns=\"http://www.w3.org/2000/svg\" height=\"24px\" viewBox=\"0 -960 960 960\">\n",
              "    <path d=\"M120-120v-720h720v720H120Zm60-500h600v-160H180v160Zm220 220h160v-160H400v160Zm0 220h160v-160H400v160ZM180-400h160v-160H180v160Zm440 0h160v-160H620v160ZM180-180h160v-160H180v160Zm440 0h160v-160H620v160Z\"/>\n",
              "  </svg>\n",
              "    </button>\n",
              "\n",
              "  <style>\n",
              "    .colab-df-container {\n",
              "      display:flex;\n",
              "      gap: 12px;\n",
              "    }\n",
              "\n",
              "    .colab-df-convert {\n",
              "      background-color: #E8F0FE;\n",
              "      border: none;\n",
              "      border-radius: 50%;\n",
              "      cursor: pointer;\n",
              "      display: none;\n",
              "      fill: #1967D2;\n",
              "      height: 32px;\n",
              "      padding: 0 0 0 0;\n",
              "      width: 32px;\n",
              "    }\n",
              "\n",
              "    .colab-df-convert:hover {\n",
              "      background-color: #E2EBFA;\n",
              "      box-shadow: 0px 1px 2px rgba(60, 64, 67, 0.3), 0px 1px 3px 1px rgba(60, 64, 67, 0.15);\n",
              "      fill: #174EA6;\n",
              "    }\n",
              "\n",
              "    .colab-df-buttons div {\n",
              "      margin-bottom: 4px;\n",
              "    }\n",
              "\n",
              "    [theme=dark] .colab-df-convert {\n",
              "      background-color: #3B4455;\n",
              "      fill: #D2E3FC;\n",
              "    }\n",
              "\n",
              "    [theme=dark] .colab-df-convert:hover {\n",
              "      background-color: #434B5C;\n",
              "      box-shadow: 0px 1px 3px 1px rgba(0, 0, 0, 0.15);\n",
              "      filter: drop-shadow(0px 1px 2px rgba(0, 0, 0, 0.3));\n",
              "      fill: #FFFFFF;\n",
              "    }\n",
              "  </style>\n",
              "\n",
              "    <script>\n",
              "      const buttonEl =\n",
              "        document.querySelector('#df-b3550031-57a0-4b2b-ae60-6bfb84507f5a button.colab-df-convert');\n",
              "      buttonEl.style.display =\n",
              "        google.colab.kernel.accessAllowed ? 'block' : 'none';\n",
              "\n",
              "      async function convertToInteractive(key) {\n",
              "        const element = document.querySelector('#df-b3550031-57a0-4b2b-ae60-6bfb84507f5a');\n",
              "        const dataTable =\n",
              "          await google.colab.kernel.invokeFunction('convertToInteractive',\n",
              "                                                    [key], {});\n",
              "        if (!dataTable) return;\n",
              "\n",
              "        const docLinkHtml = 'Like what you see? Visit the ' +\n",
              "          '<a target=\"_blank\" href=https://colab.research.google.com/notebooks/data_table.ipynb>data table notebook</a>'\n",
              "          + ' to learn more about interactive tables.';\n",
              "        element.innerHTML = '';\n",
              "        dataTable['output_type'] = 'display_data';\n",
              "        await google.colab.output.renderOutput(dataTable, element);\n",
              "        const docLink = document.createElement('div');\n",
              "        docLink.innerHTML = docLinkHtml;\n",
              "        element.appendChild(docLink);\n",
              "      }\n",
              "    </script>\n",
              "  </div>\n",
              "\n",
              "\n",
              "    <div id=\"df-99943ee5-a63c-49ab-a559-b412b9367482\">\n",
              "      <button class=\"colab-df-quickchart\" onclick=\"quickchart('df-99943ee5-a63c-49ab-a559-b412b9367482')\"\n",
              "                title=\"Suggest charts\"\n",
              "                style=\"display:none;\">\n",
              "\n",
              "<svg xmlns=\"http://www.w3.org/2000/svg\" height=\"24px\"viewBox=\"0 0 24 24\"\n",
              "     width=\"24px\">\n",
              "    <g>\n",
              "        <path d=\"M19 3H5c-1.1 0-2 .9-2 2v14c0 1.1.9 2 2 2h14c1.1 0 2-.9 2-2V5c0-1.1-.9-2-2-2zM9 17H7v-7h2v7zm4 0h-2V7h2v10zm4 0h-2v-4h2v4z\"/>\n",
              "    </g>\n",
              "</svg>\n",
              "      </button>\n",
              "\n",
              "<style>\n",
              "  .colab-df-quickchart {\n",
              "      --bg-color: #E8F0FE;\n",
              "      --fill-color: #1967D2;\n",
              "      --hover-bg-color: #E2EBFA;\n",
              "      --hover-fill-color: #174EA6;\n",
              "      --disabled-fill-color: #AAA;\n",
              "      --disabled-bg-color: #DDD;\n",
              "  }\n",
              "\n",
              "  [theme=dark] .colab-df-quickchart {\n",
              "      --bg-color: #3B4455;\n",
              "      --fill-color: #D2E3FC;\n",
              "      --hover-bg-color: #434B5C;\n",
              "      --hover-fill-color: #FFFFFF;\n",
              "      --disabled-bg-color: #3B4455;\n",
              "      --disabled-fill-color: #666;\n",
              "  }\n",
              "\n",
              "  .colab-df-quickchart {\n",
              "    background-color: var(--bg-color);\n",
              "    border: none;\n",
              "    border-radius: 50%;\n",
              "    cursor: pointer;\n",
              "    display: none;\n",
              "    fill: var(--fill-color);\n",
              "    height: 32px;\n",
              "    padding: 0;\n",
              "    width: 32px;\n",
              "  }\n",
              "\n",
              "  .colab-df-quickchart:hover {\n",
              "    background-color: var(--hover-bg-color);\n",
              "    box-shadow: 0 1px 2px rgba(60, 64, 67, 0.3), 0 1px 3px 1px rgba(60, 64, 67, 0.15);\n",
              "    fill: var(--button-hover-fill-color);\n",
              "  }\n",
              "\n",
              "  .colab-df-quickchart-complete:disabled,\n",
              "  .colab-df-quickchart-complete:disabled:hover {\n",
              "    background-color: var(--disabled-bg-color);\n",
              "    fill: var(--disabled-fill-color);\n",
              "    box-shadow: none;\n",
              "  }\n",
              "\n",
              "  .colab-df-spinner {\n",
              "    border: 2px solid var(--fill-color);\n",
              "    border-color: transparent;\n",
              "    border-bottom-color: var(--fill-color);\n",
              "    animation:\n",
              "      spin 1s steps(1) infinite;\n",
              "  }\n",
              "\n",
              "  @keyframes spin {\n",
              "    0% {\n",
              "      border-color: transparent;\n",
              "      border-bottom-color: var(--fill-color);\n",
              "      border-left-color: var(--fill-color);\n",
              "    }\n",
              "    20% {\n",
              "      border-color: transparent;\n",
              "      border-left-color: var(--fill-color);\n",
              "      border-top-color: var(--fill-color);\n",
              "    }\n",
              "    30% {\n",
              "      border-color: transparent;\n",
              "      border-left-color: var(--fill-color);\n",
              "      border-top-color: var(--fill-color);\n",
              "      border-right-color: var(--fill-color);\n",
              "    }\n",
              "    40% {\n",
              "      border-color: transparent;\n",
              "      border-right-color: var(--fill-color);\n",
              "      border-top-color: var(--fill-color);\n",
              "    }\n",
              "    60% {\n",
              "      border-color: transparent;\n",
              "      border-right-color: var(--fill-color);\n",
              "    }\n",
              "    80% {\n",
              "      border-color: transparent;\n",
              "      border-right-color: var(--fill-color);\n",
              "      border-bottom-color: var(--fill-color);\n",
              "    }\n",
              "    90% {\n",
              "      border-color: transparent;\n",
              "      border-bottom-color: var(--fill-color);\n",
              "    }\n",
              "  }\n",
              "</style>\n",
              "\n",
              "      <script>\n",
              "        async function quickchart(key) {\n",
              "          const quickchartButtonEl =\n",
              "            document.querySelector('#' + key + ' button');\n",
              "          quickchartButtonEl.disabled = true;  // To prevent multiple clicks.\n",
              "          quickchartButtonEl.classList.add('colab-df-spinner');\n",
              "          try {\n",
              "            const charts = await google.colab.kernel.invokeFunction(\n",
              "                'suggestCharts', [key], {});\n",
              "          } catch (error) {\n",
              "            console.error('Error during call to suggestCharts:', error);\n",
              "          }\n",
              "          quickchartButtonEl.classList.remove('colab-df-spinner');\n",
              "          quickchartButtonEl.classList.add('colab-df-quickchart-complete');\n",
              "        }\n",
              "        (() => {\n",
              "          let quickchartButtonEl =\n",
              "            document.querySelector('#df-99943ee5-a63c-49ab-a559-b412b9367482 button');\n",
              "          quickchartButtonEl.style.display =\n",
              "            google.colab.kernel.accessAllowed ? 'block' : 'none';\n",
              "        })();\n",
              "      </script>\n",
              "    </div>\n",
              "\n",
              "    </div>\n",
              "  </div>\n"
            ],
            "application/vnd.google.colaboratory.intrinsic+json": {
              "type": "dataframe",
              "variable_name": "books"
            }
          },
          "metadata": {},
          "execution_count": 9
        }
      ],
      "source": [
        "books.head()"
      ]
    },
    {
      "cell_type": "markdown",
      "source": [
        "Удалим неиспользуемые переменные"
      ],
      "metadata": {
        "id": "Qixs7QZb8hEe"
      }
    },
    {
      "cell_type": "code",
      "source": [
        "del locations, condition\n",
        "gc.collect()"
      ],
      "metadata": {
        "colab": {
          "base_uri": "https://localhost:8080/"
        },
        "id": "HrBriEIO8bXD",
        "outputId": "39598e92-5cd7-458b-f663-862a9ae6d3a1"
      },
      "execution_count": 10,
      "outputs": [
        {
          "output_type": "execute_result",
          "data": {
            "text/plain": [
              "13"
            ]
          },
          "metadata": {},
          "execution_count": 10
        }
      ]
    },
    {
      "cell_type": "markdown",
      "metadata": {
        "id": "vpCkd0vszuY2"
      },
      "source": [
        "Посмотрим, что можно ещё сделать для обучения моделей."
      ]
    },
    {
      "cell_type": "code",
      "execution_count": 11,
      "metadata": {
        "colab": {
          "base_uri": "https://localhost:8080/"
        },
        "id": "Zi_h-H2BzU0F",
        "outputId": "4a9b303a-afa7-454d-a682-fc7bdc991518"
      },
      "outputs": [
        {
          "output_type": "stream",
          "name": "stdout",
          "text": [
            "<class 'pandas.core.frame.DataFrame'>\n",
            "RangeIndex: 1031136 entries, 0 to 1031135\n",
            "Data columns (total 15 columns):\n",
            " #   Column               Non-Null Count    Dtype  \n",
            "---  ------               --------------    -----  \n",
            " 0   ISBN                 1031136 non-null  object \n",
            " 1   Book-Title           1031136 non-null  object \n",
            " 2   Book-Author          1031134 non-null  object \n",
            " 3   Year-Of-Publication  1031136 non-null  object \n",
            " 4   Publisher            1031134 non-null  object \n",
            " 5   Image-URL-S          1031136 non-null  object \n",
            " 6   Image-URL-M          1031136 non-null  object \n",
            " 7   Image-URL-L          1031132 non-null  object \n",
            " 8   User-ID              1031136 non-null  int64  \n",
            " 9   Book-Rating          1031136 non-null  int64  \n",
            " 10  Location             1031136 non-null  object \n",
            " 11  Age                  750391 non-null   float64\n",
            " 12  city                 1031136 non-null  object \n",
            " 13  region               1031136 non-null  object \n",
            " 14  country              1006941 non-null  object \n",
            "dtypes: float64(1), int64(2), object(12)\n",
            "memory usage: 118.0+ MB\n"
          ]
        }
      ],
      "source": [
        "books.info()"
      ]
    },
    {
      "cell_type": "markdown",
      "metadata": {
        "id": "isJtG0JP0Iei"
      },
      "source": [
        "Есть проблема с признаком `Year-Of-Publication`: его тип `object`, а не `int64`. Эту проблему мы решили во второй практической работе, поэтому просто преобразуем его к нужному типу."
      ]
    },
    {
      "cell_type": "code",
      "execution_count": 12,
      "metadata": {
        "id": "ElC9V1FB08j2"
      },
      "outputs": [],
      "source": [
        "books[\"Year-Of-Publication\"] = pd.to_numeric(books[\"Year-Of-Publication\"])"
      ]
    },
    {
      "cell_type": "markdown",
      "metadata": {
        "id": "1tGNyWA2UiFB"
      },
      "source": [
        "Поработаем с категориальными признаками. В рамках данной лабораторной работы мы не будем как-либо использовать ссылки на картинки, поэтому их просто удалим."
      ]
    },
    {
      "cell_type": "code",
      "execution_count": 13,
      "metadata": {
        "id": "GYPLDxamU-r1"
      },
      "outputs": [],
      "source": [
        "books.drop(columns=[\"Image-URL-S\", \"Image-URL-M\", \"Image-URL-L\"], inplace=True)"
      ]
    },
    {
      "cell_type": "markdown",
      "metadata": {
        "id": "IPfEcX932Xjg"
      },
      "source": [
        "`ISBN` будем кодировать с помощью `LabelEncoder`."
      ]
    },
    {
      "cell_type": "code",
      "execution_count": 14,
      "metadata": {
        "id": "Y77b7BJ622jy"
      },
      "outputs": [],
      "source": [
        "from sklearn.preprocessing import LabelEncoder\n",
        "\n",
        "books[\"ISBN\"] = LabelEncoder().fit_transform(books[\"ISBN\"])"
      ]
    },
    {
      "cell_type": "markdown",
      "metadata": {
        "id": "loWAFHPqd8LQ"
      },
      "source": [
        "Поработаем с пропусками. Признаки `Book-Author` и `Publisher` содержат в себе 1 и 2 пропуска соответственно — на весь массив данных это пренебрежительно малая часть, поэтому их можно удалить."
      ]
    },
    {
      "cell_type": "code",
      "execution_count": 15,
      "metadata": {
        "id": "5IFLP44QeQIG"
      },
      "outputs": [],
      "source": [
        "books.dropna(subset=[\"Book-Author\", \"Publisher\"], inplace=True)"
      ]
    },
    {
      "cell_type": "markdown",
      "metadata": {
        "id": "2UiFj6DNexRC"
      },
      "source": [
        "`Age` имеет значительное количество пропусков. Заменим их на некоторое усреднённое: среднее или медиану. Посмотрим на распределение этого признака, чтобы выбрать более удачный вариант."
      ]
    },
    {
      "cell_type": "code",
      "execution_count": 16,
      "metadata": {
        "colab": {
          "base_uri": "https://localhost:8080/",
          "height": 331
        },
        "id": "Us1MbwlsfOdn",
        "outputId": "e1902a94-e0f5-42ee-b03c-5d56c8e1216a"
      },
      "outputs": [
        {
          "output_type": "execute_result",
          "data": {
            "text/plain": [
              "count    750387.000000\n",
              "mean         36.993078\n",
              "std          12.220709\n",
              "min           0.000000\n",
              "25%          28.000000\n",
              "50%          35.000000\n",
              "75%          45.000000\n",
              "max         100.000000\n",
              "Name: Age, dtype: float64"
            ],
            "text/html": [
              "<div>\n",
              "<style scoped>\n",
              "    .dataframe tbody tr th:only-of-type {\n",
              "        vertical-align: middle;\n",
              "    }\n",
              "\n",
              "    .dataframe tbody tr th {\n",
              "        vertical-align: top;\n",
              "    }\n",
              "\n",
              "    .dataframe thead th {\n",
              "        text-align: right;\n",
              "    }\n",
              "</style>\n",
              "<table border=\"1\" class=\"dataframe\">\n",
              "  <thead>\n",
              "    <tr style=\"text-align: right;\">\n",
              "      <th></th>\n",
              "      <th>Age</th>\n",
              "    </tr>\n",
              "  </thead>\n",
              "  <tbody>\n",
              "    <tr>\n",
              "      <th>count</th>\n",
              "      <td>750387.000000</td>\n",
              "    </tr>\n",
              "    <tr>\n",
              "      <th>mean</th>\n",
              "      <td>36.993078</td>\n",
              "    </tr>\n",
              "    <tr>\n",
              "      <th>std</th>\n",
              "      <td>12.220709</td>\n",
              "    </tr>\n",
              "    <tr>\n",
              "      <th>min</th>\n",
              "      <td>0.000000</td>\n",
              "    </tr>\n",
              "    <tr>\n",
              "      <th>25%</th>\n",
              "      <td>28.000000</td>\n",
              "    </tr>\n",
              "    <tr>\n",
              "      <th>50%</th>\n",
              "      <td>35.000000</td>\n",
              "    </tr>\n",
              "    <tr>\n",
              "      <th>75%</th>\n",
              "      <td>45.000000</td>\n",
              "    </tr>\n",
              "    <tr>\n",
              "      <th>max</th>\n",
              "      <td>100.000000</td>\n",
              "    </tr>\n",
              "  </tbody>\n",
              "</table>\n",
              "</div><br><label><b>dtype:</b> float64</label>"
            ]
          },
          "metadata": {},
          "execution_count": 16
        }
      ],
      "source": [
        "books[\"Age\"].describe()"
      ]
    },
    {
      "cell_type": "markdown",
      "metadata": {
        "id": "fX-cIsrZfm36"
      },
      "source": [
        "Разница между средним и медианой в целом незначительна — почти 2 года при разбросе возрастов от 0 до 100. Остановимся на медиане."
      ]
    },
    {
      "cell_type": "code",
      "execution_count": 17,
      "metadata": {
        "id": "0zL3fGm9gQhw"
      },
      "outputs": [],
      "source": [
        "books[\"Age\"] = books[\"Age\"].fillna(books[\"Age\"].median())"
      ]
    },
    {
      "cell_type": "markdown",
      "metadata": {
        "id": "bGOidlhdiPmC"
      },
      "source": [
        "Также необходимо заполнить пропуски в столбце `country`. Посмотрим на несколько уникальных значений, которые были обработаны неправильно."
      ]
    },
    {
      "cell_type": "code",
      "execution_count": 18,
      "metadata": {
        "colab": {
          "base_uri": "https://localhost:8080/"
        },
        "id": "b3H3H0GviaeC",
        "outputId": "9a40ae56-8798-47e6-ddfa-b84057838926"
      },
      "outputs": [
        {
          "output_type": "execute_result",
          "data": {
            "text/plain": [
              "array(['ottawa, ,', 'seattle, ,', 'albuquerque, ,', 'humble, ,',\n",
              "       'springfield, ,', 'aloha, ,', 'pearland, texas,', 'sarasota, ,',\n",
              "       'west springfield, massachusetts,', 'west linn, ,'], dtype=object)"
            ]
          },
          "metadata": {},
          "execution_count": 18
        }
      ],
      "source": [
        "books[books[\"country\"].isna()][\"Location\"].unique()[:10]"
      ]
    },
    {
      "cell_type": "markdown",
      "metadata": {
        "id": "pDhHA44Aitcy"
      },
      "source": [
        "Подавляющее большинство городов (в частности, по графику распределения стран из практической работы 2) относится к США — это самое часто встречающееся государство. Заполним пропуски модой."
      ]
    },
    {
      "cell_type": "code",
      "execution_count": 19,
      "metadata": {
        "id": "Ironj4ZdjCbm"
      },
      "outputs": [],
      "source": [
        "books[\"country\"] = books[\"country\"].fillna(books[\"country\"].mode()[0])"
      ]
    },
    {
      "cell_type": "markdown",
      "metadata": {
        "id": "YJOnrfxFj5sg"
      },
      "source": [
        "Столбец `Location` нам больше не понадобится, можем его удалить."
      ]
    },
    {
      "cell_type": "code",
      "execution_count": 20,
      "metadata": {
        "id": "WgfhcYJmj9aa"
      },
      "outputs": [],
      "source": [
        "books.drop(columns=[\"Location\"], inplace=True)"
      ]
    },
    {
      "cell_type": "markdown",
      "metadata": {
        "id": "6WkJn4NWAr4v"
      },
      "source": [
        "И, наконец, разделим для удобства числовые и категориальные признаки."
      ]
    },
    {
      "cell_type": "code",
      "execution_count": 21,
      "metadata": {
        "id": "DN49FI0yAbhm"
      },
      "outputs": [],
      "source": [
        "numeric_cols = [\n",
        "    \"ISBN\",  # после преобразования LabelEncoder'ом будем считать ISBN числовым признаком\n",
        "    \"Year-Of-Publication\",\n",
        "    \"User-ID\",\n",
        "    \"Book-Rating\",\n",
        "    \"Age\",\n",
        "]\n",
        "\n",
        "categorial_cols = [\n",
        "    \"Book-Title\",\n",
        "    \"Book-Author\",\n",
        "    \"Publisher\",\n",
        "    \"city\",\n",
        "    \"region\",\n",
        "    \"country\",\n",
        "]"
      ]
    },
    {
      "cell_type": "markdown",
      "source": [
        "# Нормировка числовых признаков"
      ],
      "metadata": {
        "id": "iBAmj4qLgG95"
      }
    },
    {
      "cell_type": "markdown",
      "source": [
        "Для корректной работы некоторых моделей (например, KNN, нейронные сети) предварительно необходимо провести нормировку некоторых числовых признаков. Поскольку \"истинно\" числовыми являются признаки `Year-Of-Publication` и `Age`, будем нормировать именно их.\n",
        "\n",
        "Из результатов второй практики видно, что распределение значений этих признаков похоже на нормальное, поэтому имеет смысл воспользоваться `StandardScaler`."
      ],
      "metadata": {
        "id": "4Y4G37HdgLOF"
      }
    },
    {
      "cell_type": "code",
      "source": [
        "from sklearn.preprocessing import StandardScaler\n",
        "\n",
        "for col in (\"Year-Of-Publication\", \"Age\"):\n",
        "    books[col] = StandardScaler().fit_transform(books[col].values.reshape(-1, 1))"
      ],
      "metadata": {
        "id": "beK4OXAUjGoh"
      },
      "execution_count": 22,
      "outputs": []
    },
    {
      "cell_type": "markdown",
      "source": [
        "На данном этапе мы не сохраняем модели преобразования данных — мы только тестируем разные комбинации моделей, чтобы в дальнейшем составить пайплайн для предсказания рейтинга книги."
      ],
      "metadata": {
        "id": "ThnuD3momIPw"
      }
    },
    {
      "cell_type": "markdown",
      "metadata": {
        "id": "nthqmYR3vQ_E"
      },
      "source": [
        "# Преобразование категориальных признаков и обучение моделей"
      ]
    },
    {
      "cell_type": "markdown",
      "metadata": {
        "id": "9AA6ekNJyaWM"
      },
      "source": [
        "Для преобразования категориальных данных в числовые признаки, в том числе названий книг, мы выбрали несколько подходов, такие как Bag of Words, TF-IDF, Word2Vec. Давайте рассмотрим каждый из них."
      ]
    },
    {
      "cell_type": "markdown",
      "metadata": {
        "id": "m0-vK8pnDZtT"
      },
      "source": [
        "## Bag of Words"
      ]
    },
    {
      "cell_type": "markdown",
      "metadata": {
        "id": "QAJPKfImz4Qy"
      },
      "source": [
        "**bag-of-words - подход, при котором текст представляется в матрицы (количества вхождений слов в документы).**"
      ]
    },
    {
      "cell_type": "code",
      "execution_count": 23,
      "metadata": {
        "id": "-vY3WHFdz7uw"
      },
      "outputs": [],
      "source": [
        "from sklearn.feature_extraction.text import CountVectorizer\n",
        "\n",
        "vectorizer_title = CountVectorizer(max_features=50)\n",
        "vectorizer_author = CountVectorizer(max_features=50)\n",
        "vectorizer_publisher = CountVectorizer(max_features=50)\n",
        "vectorizer_city = CountVectorizer(max_features=50)\n",
        "vectorizer_region = CountVectorizer(max_features=50)\n",
        "vectorizer_country = CountVectorizer(max_features=50)\n",
        "\n",
        "title_bow = vectorizer_title.fit_transform(books['Book-Title'])\n",
        "author_bow = vectorizer_author.fit_transform(books['Book-Author'])\n",
        "publisher_bow = vectorizer_publisher.fit_transform(books['Publisher'])\n",
        "city_bow = vectorizer_city.fit_transform(books['city'])\n",
        "region_bow = vectorizer_region.fit_transform(books['region'])\n",
        "country_bow = vectorizer_country.fit_transform(books['country'])"
      ]
    },
    {
      "cell_type": "code",
      "execution_count": 24,
      "metadata": {
        "colab": {
          "base_uri": "https://localhost:8080/"
        },
        "id": "CPOI3Nfs8r-O",
        "outputId": "2b4c439a-6608-4b73-85e4-46ed0881f75c"
      },
      "outputs": [
        {
          "output_type": "stream",
          "name": "stdout",
          "text": [
            "Title List:\n",
            "all\n",
            "american\n",
            "amp\n",
            "an\n",
            "and\n",
            "at\n",
            "book\n",
            "books\n",
            "by\n",
            "classics\n",
            "club\n",
            "death\n",
            "for\n",
            "from\n",
            "guide\n",
            "harlequin\n",
            "house\n",
            "how\n",
            "in\n",
            "is\n",
            "life\n",
            "little\n",
            "love\n",
            "man\n",
            "my\n",
            "mysteries\n",
            "mystery\n",
            "new\n",
            "night\n",
            "no\n",
            "novel\n",
            "novels\n",
            "of\n",
            "on\n",
            "one\n",
            "other\n",
            "paperback\n",
            "romance\n",
            "series\n",
            "star\n",
            "stories\n",
            "story\n",
            "the\n",
            "time\n",
            "to\n",
            "who\n",
            "with\n",
            "world\n",
            "you\n",
            "your\n"
          ]
        }
      ],
      "source": [
        "title_vocab = vectorizer_title.get_feature_names_out()\n",
        "\n",
        "print(\"Title List:\")\n",
        "for token in title_vocab:\n",
        "    print(token)"
      ]
    },
    {
      "cell_type": "markdown",
      "metadata": {
        "id": "DkbBc-zs9xAA"
      },
      "source": [
        "Вывод представляет собой список токенов, полученных в результате векторизации заголовков книг с использованием CountVectorizer. Каждый токен представляет собой уникальное слово или фразу, найденную в заголовках книг."
      ]
    },
    {
      "cell_type": "code",
      "execution_count": 25,
      "metadata": {
        "colab": {
          "base_uri": "https://localhost:8080/"
        },
        "id": "IIdpIT4Y94iw",
        "outputId": "672e7899-78fc-4529-a871-9e92ad777fb6"
      },
      "outputs": [
        {
          "output_type": "stream",
          "name": "stdout",
          "text": [
            "Author BOW Matrix:\n"
          ]
        },
        {
          "output_type": "execute_result",
          "data": {
            "text/plain": [
              "array([[0, 0, 0, ..., 0, 0, 0],\n",
              "       [0, 0, 0, ..., 0, 0, 0],\n",
              "       [0, 0, 0, ..., 0, 0, 0],\n",
              "       ...,\n",
              "       [0, 0, 0, ..., 0, 0, 0],\n",
              "       [0, 0, 0, ..., 0, 0, 0],\n",
              "       [0, 0, 0, ..., 0, 0, 0]])"
            ]
          },
          "metadata": {},
          "execution_count": 25
        }
      ],
      "source": [
        "print(\"Author BOW Matrix:\")\n",
        "author_bow.toarray()"
      ]
    },
    {
      "cell_type": "markdown",
      "metadata": {
        "id": "sR0Vh9RLEbhS"
      },
      "source": [
        "Объединим преобразованные категориальные признаки с существующими числовыми и обучим модель на линейной регрессии, алгоритме случайного леса и `xgboost`. Качество модели будем оценивать с помощью меры `MSE`."
      ]
    },
    {
      "cell_type": "code",
      "execution_count": 26,
      "metadata": {
        "colab": {
          "base_uri": "https://localhost:8080/"
        },
        "id": "slOpft1QEogY",
        "outputId": "5f503485-63be-4303-bdec-f2513e6e3603"
      },
      "outputs": [
        {
          "output_type": "execute_result",
          "data": {
            "text/plain": [
              "0"
            ]
          },
          "metadata": {},
          "execution_count": 26
        }
      ],
      "source": [
        "title_df = pd.DataFrame(title_bow.toarray(), columns=vectorizer_title.get_feature_names_out())\n",
        "author_df = pd.DataFrame(author_bow.toarray(), columns=vectorizer_author.get_feature_names_out())\n",
        "publisher_df = pd.DataFrame(publisher_bow.toarray(), columns=vectorizer_publisher.get_feature_names_out())\n",
        "city_df = pd.DataFrame(city_bow.toarray(), columns=vectorizer_city.get_feature_names_out())\n",
        "region_df = pd.DataFrame(region_bow.toarray(), columns=vectorizer_region.get_feature_names_out())\n",
        "country_df = pd.DataFrame(country_bow.toarray(), columns=vectorizer_country.get_feature_names_out())\n",
        "\n",
        "df = pd.concat([books[numeric_cols], title_df, author_df, publisher_df, city_df, region_df, country_df], axis=1)\n",
        "\n",
        "del title_bow, author_bow, publisher_bow, city_bow, region_bow, country_bow\n",
        "del title_df, author_df, publisher_df, city_df, region_df, country_df\n",
        "\n",
        "gc.collect()  # вызываем сборщик мусора, чтобы освободить память"
      ]
    },
    {
      "cell_type": "markdown",
      "metadata": {
        "id": "08rpcyVtxCIt"
      },
      "source": [
        "Далее объединим столбцы с одинаковыми именами, которые возникли при объединении столбцов."
      ]
    },
    {
      "cell_type": "code",
      "execution_count": 27,
      "metadata": {
        "id": "TdQAaX1ww-oW",
        "colab": {
          "base_uri": "https://localhost:8080/"
        },
        "outputId": "61d81f39-3070-448c-8c0d-06e57c735261"
      },
      "outputs": [
        {
          "output_type": "execute_result",
          "data": {
            "text/plain": [
              "0"
            ]
          },
          "metadata": {},
          "execution_count": 27
        }
      ],
      "source": [
        "duplicate_columns = df.columns[df.columns.duplicated(keep=False)]\n",
        "combined_columns = {col: df.filter(like=col).sum(axis=1) for col in duplicate_columns}\n",
        "\n",
        "df.drop(columns=duplicate_columns, inplace=True)\n",
        "\n",
        "for col_name, col_values in combined_columns.items():\n",
        "    df[col_name + \"_combined\"] = col_values\n",
        "\n",
        "del duplicate_columns, combined_columns\n",
        "gc.collect()"
      ]
    },
    {
      "cell_type": "markdown",
      "metadata": {
        "id": "cBu-Dg5sJrx4"
      },
      "source": [
        "Разделим выборку на обучающую и тестовую."
      ]
    },
    {
      "cell_type": "code",
      "execution_count": 28,
      "metadata": {
        "colab": {
          "base_uri": "https://localhost:8080/"
        },
        "id": "AAYevu7KCyp5",
        "outputId": "c4a98c06-3930-4cdb-e762-38f3ba7dab82"
      },
      "outputs": [
        {
          "output_type": "execute_result",
          "data": {
            "text/plain": [
              "0"
            ]
          },
          "metadata": {},
          "execution_count": 28
        }
      ],
      "source": [
        "from sklearn.model_selection import train_test_split\n",
        "from sklearn.metrics import mean_squared_error\n",
        "\n",
        "# Параметры train_test_split\n",
        "random_state = 42\n",
        "test_size = 0.2\n",
        "\n",
        "X_train, X_test, y_train, y_test = train_test_split(\n",
        "    df.drop(columns=[\"Book-Rating\"]), df[\"Book-Rating\"], test_size=test_size, random_state=random_state)\n",
        "X_train.fillna(0, inplace=True)\n",
        "X_test.fillna(0, inplace=True)\n",
        "y_train.fillna(y_train.mode()[0], inplace=True)\n",
        "y_test.fillna(y_test.mode()[0], inplace=True)\n",
        "\n",
        "del df\n",
        "gc.collect()"
      ]
    },
    {
      "cell_type": "markdown",
      "metadata": {
        "id": "IG2dBwEITTAX"
      },
      "source": [
        "## BoW + LinearRegression"
      ]
    },
    {
      "cell_type": "code",
      "execution_count": 29,
      "metadata": {
        "colab": {
          "base_uri": "https://localhost:8080/"
        },
        "id": "mP8qhOFlNfkv",
        "outputId": "607c57d7-3b03-4054-bc31-e6acdcc3e627"
      },
      "outputs": [
        {
          "output_type": "execute_result",
          "data": {
            "text/plain": [
              "14.42301724305138"
            ]
          },
          "metadata": {},
          "execution_count": 29
        }
      ],
      "source": [
        "from sklearn.linear_model import LinearRegression\n",
        "\n",
        "model = LinearRegression()\n",
        "model.fit(X_train, y_train)\n",
        "y_pred = model.predict(X_test)\n",
        "y_pred = list(map(lambda x: round(x), y_pred))\n",
        "\n",
        "mean_squared_error(y_pred, y_test)"
      ]
    },
    {
      "cell_type": "markdown",
      "metadata": {
        "id": "fjqMxobkT_lC"
      },
      "source": [
        "MSE для Bag of Words и линейной регрессии — 14.17, RMSE — примерно 3.77. Ошибка предсказания составляет примерно 4 балла."
      ]
    },
    {
      "cell_type": "markdown",
      "metadata": {
        "id": "K3jLZT0MUn_1"
      },
      "source": [
        "## BoW + RandomForest"
      ]
    },
    {
      "cell_type": "code",
      "execution_count": 30,
      "metadata": {
        "colab": {
          "base_uri": "https://localhost:8080/"
        },
        "id": "bniTHB40UtPb",
        "outputId": "8cdb44da-eea1-4449-e2d3-3d8d6dd8dcc2"
      },
      "outputs": [
        {
          "output_type": "execute_result",
          "data": {
            "text/plain": [
              "13.74888957852474"
            ]
          },
          "metadata": {},
          "execution_count": 30
        }
      ],
      "source": [
        "from sklearn.ensemble import RandomForestRegressor\n",
        "\n",
        "model = RandomForestRegressor(n_estimators=50, max_depth=15, n_jobs=-1)\n",
        "model.fit(X_train, y_train)\n",
        "y_pred = model.predict(X_test)\n",
        "y_pred = list(map(lambda x: round(x), y_pred))\n",
        "\n",
        "mean_squared_error(y_pred, y_test)"
      ]
    },
    {
      "cell_type": "markdown",
      "metadata": {
        "id": "iaUveYRZWp4j"
      },
      "source": [
        "MSE для Bag of Words и линейной регрессии — 13.77, RMSE — примерно 3.71. Ошибка предсказания составляет примерно 4 балла."
      ]
    },
    {
      "cell_type": "markdown",
      "metadata": {
        "id": "EOiBda5FnofZ"
      },
      "source": [
        "## BoW + XGBoost"
      ]
    },
    {
      "cell_type": "code",
      "execution_count": 31,
      "metadata": {
        "colab": {
          "base_uri": "https://localhost:8080/"
        },
        "id": "Ct6sW6uzoVG7",
        "outputId": "40938c3a-a084-4e97-c8f6-9f61713ed84e"
      },
      "outputs": [
        {
          "output_type": "execute_result",
          "data": {
            "text/plain": [
              "14.238663033147779"
            ]
          },
          "metadata": {},
          "execution_count": 31
        }
      ],
      "source": [
        "import xgboost as xgb\n",
        "\n",
        "model = xgb.XGBRegressor(n_estimators=100, max_depth=3, learning_rate=0.1)\n",
        "model.fit(X_train, y_train)\n",
        "y_pred = model.predict(X_test)\n",
        "y_pred = list(map(lambda x: round(x), y_pred))\n",
        "\n",
        "mean_squared_error(y_pred, y_test)"
      ]
    },
    {
      "cell_type": "markdown",
      "metadata": {
        "id": "-6-tN94sp7bS"
      },
      "source": [
        "MSE для Bag of Words и XGBoost — 14.09, RMSE — примерно 3.75. Ошибка предсказания составляет примерно 4 балла."
      ]
    },
    {
      "cell_type": "markdown",
      "metadata": {
        "id": "WxdnywpTEX1p"
      },
      "source": [
        "## TF-IDF"
      ]
    },
    {
      "cell_type": "markdown",
      "metadata": {
        "id": "3DV9EP0vDHAd"
      },
      "source": [
        "**tf–idf — это способ векторизации текста, отражающий важность слова в документе, а не только частоту его появления**"
      ]
    },
    {
      "cell_type": "code",
      "execution_count": 32,
      "metadata": {
        "id": "rsoS1syADpzI"
      },
      "outputs": [],
      "source": [
        "from sklearn.feature_extraction.text import TfidfVectorizer\n",
        "\n",
        "vectorizer_title = TfidfVectorizer(max_features=50)\n",
        "vectorizer_author = TfidfVectorizer(max_features=50)\n",
        "vectorizer_publisher = TfidfVectorizer(max_features=50)\n",
        "vectorizer_city = TfidfVectorizer(max_features=50)\n",
        "vectorizer_region = TfidfVectorizer(max_features=50)\n",
        "vectorizer_country = TfidfVectorizer(max_features=50)\n",
        "\n",
        "title_tfidf = vectorizer_title.fit_transform(books['Book-Title'])\n",
        "author_tfidf = vectorizer_author.fit_transform(books['Book-Author'])\n",
        "publisher_tfidf = vectorizer_publisher.fit_transform(books['Publisher'])\n",
        "city_tfidf = vectorizer_city.fit_transform(books['city'])\n",
        "region_tfidf = vectorizer_region.fit_transform(books['region'])\n",
        "country_tfidf = vectorizer_country.fit_transform(books['country'])"
      ]
    },
    {
      "cell_type": "markdown",
      "metadata": {
        "id": "boBe_7aaQMyw"
      },
      "source": [
        "Аналогично преобразуем полученные векторы в датафреймы, объединим числовые и категориальные признаки, избавимся от повторов."
      ]
    },
    {
      "cell_type": "code",
      "execution_count": 33,
      "metadata": {
        "colab": {
          "base_uri": "https://localhost:8080/"
        },
        "id": "De15QuOxQsJD",
        "outputId": "f2fced17-18d3-4c5b-94e4-c44f74736f02"
      },
      "outputs": [
        {
          "output_type": "execute_result",
          "data": {
            "text/plain": [
              "17"
            ]
          },
          "metadata": {},
          "execution_count": 33
        }
      ],
      "source": [
        "title_df = pd.DataFrame(title_tfidf.toarray(), columns=vectorizer_title.get_feature_names_out())\n",
        "author_df = pd.DataFrame(author_tfidf.toarray(), columns=vectorizer_author.get_feature_names_out())\n",
        "publisher_df = pd.DataFrame(publisher_tfidf.toarray(), columns=vectorizer_publisher.get_feature_names_out())\n",
        "city_df = pd.DataFrame(city_tfidf.toarray(), columns=vectorizer_city.get_feature_names_out())\n",
        "region_df = pd.DataFrame(region_tfidf.toarray(), columns=vectorizer_region.get_feature_names_out())\n",
        "country_df = pd.DataFrame(country_tfidf.toarray(), columns=vectorizer_country.get_feature_names_out())\n",
        "\n",
        "df = pd.concat([books[numeric_cols], title_df, author_df, publisher_df, city_df, region_df, country_df], axis=1)\n",
        "\n",
        "del title_tfidf, author_tfidf, publisher_tfidf, city_tfidf, region_tfidf, country_tfidf\n",
        "del title_df, author_df, publisher_df, city_df, region_df, country_df\n",
        "\n",
        "gc.collect()"
      ]
    },
    {
      "cell_type": "code",
      "execution_count": 34,
      "metadata": {
        "colab": {
          "base_uri": "https://localhost:8080/"
        },
        "id": "KVdUto0WRWYv",
        "outputId": "d7bb610f-1a80-4a6a-eed7-00f9b6c23249"
      },
      "outputs": [
        {
          "output_type": "execute_result",
          "data": {
            "text/plain": [
              "0"
            ]
          },
          "metadata": {},
          "execution_count": 34
        }
      ],
      "source": [
        "duplicate_columns = df.columns[df.columns.duplicated(keep=False)]\n",
        "combined_columns = {col: df.filter(like=col).sum(axis=1) for col in duplicate_columns}\n",
        "\n",
        "df.drop(columns=duplicate_columns, inplace=True)\n",
        "\n",
        "for col_name, col_values in combined_columns.items():\n",
        "    df[col_name + \"_combined\"] = col_values\n",
        "\n",
        "del duplicate_columns, combined_columns\n",
        "gc.collect()"
      ]
    },
    {
      "cell_type": "markdown",
      "metadata": {
        "id": "lYt30ApLTu8B"
      },
      "source": [
        "Разделим выборку на обучающую и тестовую и приступим к обучению моделей (как и раньше, `LinearRegression`, `RandomForestRegressor` и `XGBoostRegressor`)."
      ]
    },
    {
      "cell_type": "code",
      "execution_count": 35,
      "metadata": {
        "colab": {
          "base_uri": "https://localhost:8080/"
        },
        "id": "b5_oFD7bUBPg",
        "outputId": "8b3f6dd8-678b-4654-9b01-12f54df55809"
      },
      "outputs": [
        {
          "output_type": "execute_result",
          "data": {
            "text/plain": [
              "0"
            ]
          },
          "metadata": {},
          "execution_count": 35
        }
      ],
      "source": [
        "from sklearn.model_selection import train_test_split\n",
        "from sklearn.metrics import mean_squared_error\n",
        "\n",
        "# Параметры train_test_split\n",
        "random_state = 42\n",
        "test_size = 0.2\n",
        "\n",
        "X_train, X_test, y_train, y_test = train_test_split(\n",
        "    df.drop(columns=[\"Book-Rating\"]), df[\"Book-Rating\"], test_size=test_size, random_state=random_state)\n",
        "X_train.fillna(0, inplace=True)\n",
        "X_test.fillna(0, inplace=True)\n",
        "y_train.fillna(y_train.mode()[0], inplace=True)\n",
        "y_test.fillna(y_test.mode()[0], inplace=True)\n",
        "\n",
        "del df\n",
        "gc.collect()"
      ]
    },
    {
      "cell_type": "markdown",
      "metadata": {
        "id": "pJ0RDF0iT4-S"
      },
      "source": [
        "## TF-IDF + LinearRegression"
      ]
    },
    {
      "cell_type": "code",
      "execution_count": 36,
      "metadata": {
        "colab": {
          "base_uri": "https://localhost:8080/"
        },
        "id": "LCKhlMlgUvVM",
        "outputId": "ddd75221-6cbf-49d4-df06-8f005a09e31c"
      },
      "outputs": [
        {
          "output_type": "execute_result",
          "data": {
            "text/plain": [
              "14.423943402447776"
            ]
          },
          "metadata": {},
          "execution_count": 36
        }
      ],
      "source": [
        "from sklearn.linear_model import LinearRegression\n",
        "\n",
        "model = LinearRegression()\n",
        "model.fit(X_train, y_train)\n",
        "y_pred = model.predict(X_test)\n",
        "y_pred = list(map(lambda x: round(x), y_pred))\n",
        "\n",
        "mean_squared_error(y_pred, y_test)"
      ]
    },
    {
      "cell_type": "markdown",
      "metadata": {
        "id": "JsuuI5xwVLlt"
      },
      "source": [
        "MSE для TF-IDF и линейной регрессии — 14.18, RMSE — примерно 3.77. Ошибка предсказания составляет примерно 4 балла."
      ]
    },
    {
      "cell_type": "markdown",
      "metadata": {
        "id": "2zrvLJ2IVYRa"
      },
      "source": [
        "## TF-IDF + RandomForest"
      ]
    },
    {
      "cell_type": "code",
      "execution_count": 37,
      "metadata": {
        "colab": {
          "base_uri": "https://localhost:8080/"
        },
        "id": "0jPvSYGCW3ks",
        "outputId": "3e22a3f6-628c-4eb4-91c6-b997928a80e7"
      },
      "outputs": [
        {
          "output_type": "execute_result",
          "data": {
            "text/plain": [
              "13.772756366739724"
            ]
          },
          "metadata": {},
          "execution_count": 37
        }
      ],
      "source": [
        "from sklearn.ensemble import RandomForestRegressor\n",
        "\n",
        "model = RandomForestRegressor(n_estimators=50, max_depth=15, n_jobs=-1)\n",
        "model.fit(X_train, y_train)\n",
        "y_pred = model.predict(X_test)\n",
        "y_pred = list(map(lambda x: round(x), y_pred))\n",
        "\n",
        "mean_squared_error(y_pred, y_test)"
      ]
    },
    {
      "cell_type": "markdown",
      "metadata": {
        "id": "m44WJ5ykhxPD"
      },
      "source": [
        "MSE для TF-IDF и RandomForest — 13.79, RMSE — примерно 3.71. Ошибка предсказания составляет примерно 4 балла."
      ]
    },
    {
      "cell_type": "markdown",
      "metadata": {
        "id": "dE44z0WFVak2"
      },
      "source": [
        "## TF-IDF + XGBoost"
      ]
    },
    {
      "cell_type": "code",
      "execution_count": 38,
      "metadata": {
        "colab": {
          "base_uri": "https://localhost:8080/"
        },
        "id": "_Cxb7j6dVdod",
        "outputId": "447d10bb-9574-4474-ca61-1b195a870748"
      },
      "outputs": [
        {
          "output_type": "execute_result",
          "data": {
            "text/plain": [
              "14.238740617180984"
            ]
          },
          "metadata": {},
          "execution_count": 38
        }
      ],
      "source": [
        "import xgboost as xgb\n",
        "\n",
        "model = xgb.XGBRegressor(n_estimators=100, max_depth=3, learning_rate=0.1)\n",
        "model.fit(X_train, y_train)\n",
        "y_pred = model.predict(X_test)\n",
        "y_pred = list(map(lambda x: round(x), y_pred))\n",
        "\n",
        "mean_squared_error(y_pred, y_test)"
      ]
    },
    {
      "cell_type": "markdown",
      "metadata": {
        "id": "1FRU5jdqWT2e"
      },
      "source": [
        "MSE для TF-IDF и XGBoost — 14.08, RMSE — примерно 3.75. Ошибка предсказания составляет примерно 4 балла."
      ]
    },
    {
      "cell_type": "markdown",
      "source": [
        "# Вывод"
      ],
      "metadata": {
        "id": "AHL-MrbFUgCp"
      }
    },
    {
      "cell_type": "markdown",
      "source": [
        "**Возможный пайплайн:**\n",
        "\n",
        "1.   Удаление признаков `Image-URL-*`\n",
        "2.   Разделение `Location` на `city`, `region`, `country`, удаление `Location`\n",
        "3.   Заполнение отсутствующих значений: мода для `Year-Of-Publication`, `city`, `region`, `country`, медиана для `Age` (на основе тренировочного датасета)\n",
        "4.   Применение обученного `LabelEncoder` для `ISBN`\n",
        "5.   Применение обученных `StandardScaler` для `Year-Of-Publication` и `Age`\n",
        "6.   Применение обученных моделей `Word2Vec` для векторизации\n",
        "7.   «Распрямление» векторов `Word2Vec`\n",
        "8.   Предсказание с помощью обученного `RandomForestRegressor`"
      ],
      "metadata": {
        "id": "BazqTkMSV2so"
      }
    }
  ],
  "metadata": {
    "colab": {
      "provenance": [],
      "collapsed_sections": [
        "y7sd-f4YvwNA",
        "m0-vK8pnDZtT",
        "IG2dBwEITTAX",
        "K3jLZT0MUn_1",
        "EOiBda5FnofZ",
        "pJ0RDF0iT4-S",
        "2zrvLJ2IVYRa"
      ],
      "include_colab_link": true
    },
    "kernelspec": {
      "display_name": "Python 3",
      "name": "python3"
    },
    "language_info": {
      "name": "python"
    }
  },
  "nbformat": 4,
  "nbformat_minor": 0
}